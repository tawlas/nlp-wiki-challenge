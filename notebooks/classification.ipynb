{
 "cells": [
  {
   "cell_type": "markdown",
   "metadata": {},
   "source": [
    "<h6><center>Wikipedia Articles Clustering & Classification Challenge</center></h6>\n",
    "\n",
    "<h1>\n",
    "<hr style=\" border:none; height:3px;\">\n",
    "<center>Part 2 : Wikipedia articles classification</center>\n",
    "<hr style=\" border:none; height:3px;\">\n",
    "</h1>\n",
    "\n",
    "__Author__: Alassane Watt -- github.com/tawlas"
   ]
  },
  {
   "cell_type": "markdown",
   "metadata": {},
   "source": [
    "# Table of Content\n",
    "\n",
    "\n",
    "* [Importing packages](#imp)\n",
    "* [Helper functions](#hf)\n",
    "* [Loading data](#ld)\n",
    "* [Data Preprocessing](#pre)\n",
    "* [Multi-Classification models](#ml)\n",
    "    * [Spliting the data: train and test](#sp)\n",
    "    * [Models](#m)\n",
    "* [Comparison of model performance](#sum)\n",
    "* [Model Evaluation](#ev)\n",
    "    * [Precision, Recall, F1-score](#f1)\n",
    "    * [Confusion Matrix](#cm)\n",
    "* [Model deployment](#md)"
   ]
  },
  {
   "cell_type": "markdown",
   "metadata": {},
   "source": [
    "<a id='imp'></a>\n",
    "## Importing packages"
   ]
  },
  {
   "cell_type": "code",
   "execution_count": 1,
   "metadata": {},
   "outputs": [],
   "source": [
    "from IPython.core.display import display, HTML \n",
    "import pickle\n",
    "import os\n",
    "import pandas as pd\n",
    "import numpy as np\n",
    "import seaborn as sns\n",
    "from io import StringIO\n",
    "from collections import Counter\n",
    "import matplotlib.pyplot as plt\n",
    "import re\n",
    "import copy\n",
    "from nltk.corpus import stopwords #assuming nltk is already installed\n",
    "from nltk import PorterStemmer, WordNetLemmatizer\n",
    "import datetime\n",
    "import random\n",
    "import string\n",
    "import statistics as ss\n",
    "from sklearn.feature_extraction.text import TfidfVectorizer\n",
    "from sklearn.feature_selection import chi2\n",
    "from sklearn.model_selection import train_test_split\n",
    "from sklearn.feature_extraction.text import TfidfTransformer\n",
    "from sklearn.naive_bayes import MultinomialNB\n",
    "from sklearn.linear_model import LogisticRegression\n",
    "from sklearn.ensemble import RandomForestClassifier\n",
    "from sklearn.svm import LinearSVC\n",
    "from sklearn.model_selection import cross_val_score\n",
    "from sklearn.metrics import confusion_matrix\n",
    "from sklearn import metrics"
   ]
  },
  {
   "cell_type": "markdown",
   "metadata": {},
   "source": [
    "<a id='hf'></a>\n",
    "## Helper functions"
   ]
  },
  {
   "cell_type": "code",
   "execution_count": 2,
   "metadata": {},
   "outputs": [],
   "source": [
    "from utils.preprocessing import remove_duplicate_articles, preprocess_articles"
   ]
  },
  {
   "cell_type": "markdown",
   "metadata": {},
   "source": [
    "<a id='ld'></a>\n",
    "## Loading data"
   ]
  },
  {
   "cell_type": "code",
   "execution_count": 3,
   "metadata": {},
   "outputs": [
    {
     "name": "stdout",
     "output_type": "stream",
     "text": [
      "Nb of articles loaded: 333\n",
      "Stop words size: 1313\n"
     ]
    }
   ],
   "source": [
    "# articles data\n",
    "articles_path = os.path.join(\"..\", \"data\", \"source\", \"dataset_business_technology_cybersecurity.pickle\")\n",
    "with open(articles_path, 'rb') as f:\n",
    "    articles = pickle.load(f)\n",
    "    \n",
    "print(\"Nb of articles loaded:\", len(articles))\n",
    "\n",
    "# stopwords\n",
    "stopwords_path = os.path.join(\"..\", \"data\", \"source\", \"stopwords.txt\")\n",
    "with open(stopwords_path) as f:\n",
    "    stopwords = [word.strip() for word in f.readlines()]\n",
    "\n",
    "print(\"Stop words size:\", len(stopwords))"
   ]
  },
  {
   "cell_type": "markdown",
   "metadata": {},
   "source": [
    "<a id='pre'></a>\n",
    "## Data Preprocessing"
   ]
  },
  {
   "cell_type": "code",
   "execution_count": 4,
   "metadata": {},
   "outputs": [],
   "source": [
    "# Let's remove the duplicates articles.\n",
    "articles = remove_duplicate_articles(articles)"
   ]
  },
  {
   "cell_type": "code",
   "execution_count": 5,
   "metadata": {},
   "outputs": [],
   "source": [
    "# We are preprocessing the articles the same way we did in the Graph clustering notebook\n",
    "articles = preprocess_articles(articles, stopwords, summary=False, title=True)"
   ]
  },
  {
   "cell_type": "code",
   "execution_count": 6,
   "metadata": {},
   "outputs": [
    {
     "data": {
      "text/html": [
       "<div>\n",
       "<style scoped>\n",
       "    .dataframe tbody tr th:only-of-type {\n",
       "        vertical-align: middle;\n",
       "    }\n",
       "\n",
       "    .dataframe tbody tr th {\n",
       "        vertical-align: top;\n",
       "    }\n",
       "\n",
       "    .dataframe thead th {\n",
       "        text-align: right;\n",
       "    }\n",
       "</style>\n",
       "<table border=\"1\" class=\"dataframe\">\n",
       "  <thead>\n",
       "    <tr style=\"text-align: right;\">\n",
       "      <th></th>\n",
       "      <th>title</th>\n",
       "      <th>content</th>\n",
       "      <th>text</th>\n",
       "      <th>topic</th>\n",
       "    </tr>\n",
       "  </thead>\n",
       "  <tbody>\n",
       "    <tr>\n",
       "      <th>0</th>\n",
       "      <td>Accounting</td>\n",
       "      <td>&lt;p class=\"mw-empty-elt\"&gt;\\n&lt;/p&gt;\\n\\n&lt;p&gt;&lt;b&gt;Accoun...</td>\n",
       "      <td>accounting accounting accountancy measurement ...</td>\n",
       "      <td>business</td>\n",
       "    </tr>\n",
       "    <tr>\n",
       "      <th>1</th>\n",
       "      <td>Commerce</td>\n",
       "      <td>&lt;p&gt;&lt;b&gt;Commerce&lt;/b&gt; is the exchange of goods an...</td>\n",
       "      <td>commerce commerce exchange services scale etym...</td>\n",
       "      <td>business</td>\n",
       "    </tr>\n",
       "    <tr>\n",
       "      <th>2</th>\n",
       "      <td>Finance</td>\n",
       "      <td>&lt;p&gt;&lt;b&gt;Finance&lt;/b&gt; is a term for matters regard...</td>\n",
       "      <td>finance finance term matters management creati...</td>\n",
       "      <td>business</td>\n",
       "    </tr>\n",
       "    <tr>\n",
       "      <th>3</th>\n",
       "      <td>Industrial relations</td>\n",
       "      <td>&lt;p&gt;&lt;b&gt;Industrial relations&lt;/b&gt; or &lt;b&gt;employmen...</td>\n",
       "      <td>industrial relations industrial relations empl...</td>\n",
       "      <td>business</td>\n",
       "    </tr>\n",
       "    <tr>\n",
       "      <th>4</th>\n",
       "      <td>Management</td>\n",
       "      <td>&lt;p&gt;&lt;b&gt;Management&lt;/b&gt; (or &lt;b&gt;managing&lt;/b&gt;) is t...</td>\n",
       "      <td>management management managing administration ...</td>\n",
       "      <td>business</td>\n",
       "    </tr>\n",
       "  </tbody>\n",
       "</table>\n",
       "</div>"
      ],
      "text/plain": [
       "                  title                                            content  \\\n",
       "0            Accounting  <p class=\"mw-empty-elt\">\\n</p>\\n\\n<p><b>Accoun...   \n",
       "1              Commerce  <p><b>Commerce</b> is the exchange of goods an...   \n",
       "2               Finance  <p><b>Finance</b> is a term for matters regard...   \n",
       "3  Industrial relations  <p><b>Industrial relations</b> or <b>employmen...   \n",
       "4            Management  <p><b>Management</b> (or <b>managing</b>) is t...   \n",
       "\n",
       "                                                text     topic  \n",
       "0  accounting accounting accountancy measurement ...  business  \n",
       "1  commerce commerce exchange services scale etym...  business  \n",
       "2  finance finance term matters management creati...  business  \n",
       "3  industrial relations industrial relations empl...  business  \n",
       "4  management management managing administration ...  business  "
      ]
     },
     "execution_count": 6,
     "metadata": {},
     "output_type": "execute_result"
    }
   ],
   "source": [
    "# creating a pandas dataframe\n",
    "titles = [article['title'] for article in articles]\n",
    "contents = [article['content'] for article in articles]\n",
    "texts = [article['text'] for article in articles]\n",
    "topics = [article['topic'] for article in articles]\n",
    "articles_df = pd.DataFrame(index=range(len(texts)),columns=['title', 'content', 'text', 'topic'])\n",
    "articles_df['title'] = titles\n",
    "articles_df['content'] = contents\n",
    "articles_df['text'] = [\" \".join(text) for text in texts]\n",
    "articles_df['topic'] = topics\n",
    "\n",
    "articles_df.head()"
   ]
  },
  {
   "cell_type": "markdown",
   "metadata": {},
   "source": [
    "On top of the preprocessing made in Part 1: Graph clustering. We are adding a stemming step as part of our preprocessing."
   ]
  },
  {
   "cell_type": "code",
   "execution_count": 7,
   "metadata": {},
   "outputs": [
    {
     "data": {
      "text/html": [
       "<div>\n",
       "<style scoped>\n",
       "    .dataframe tbody tr th:only-of-type {\n",
       "        vertical-align: middle;\n",
       "    }\n",
       "\n",
       "    .dataframe tbody tr th {\n",
       "        vertical-align: top;\n",
       "    }\n",
       "\n",
       "    .dataframe thead th {\n",
       "        text-align: right;\n",
       "    }\n",
       "</style>\n",
       "<table border=\"1\" class=\"dataframe\">\n",
       "  <thead>\n",
       "    <tr style=\"text-align: right;\">\n",
       "      <th></th>\n",
       "      <th>title</th>\n",
       "      <th>content</th>\n",
       "      <th>text</th>\n",
       "      <th>topic</th>\n",
       "    </tr>\n",
       "  </thead>\n",
       "  <tbody>\n",
       "    <tr>\n",
       "      <th>0</th>\n",
       "      <td>Accounting</td>\n",
       "      <td>&lt;p class=\"mw-empty-elt\"&gt;\\n&lt;/p&gt;\\n\\n&lt;p&gt;&lt;b&gt;Accoun...</td>\n",
       "      <td>account account account measur process commun ...</td>\n",
       "      <td>business</td>\n",
       "    </tr>\n",
       "    <tr>\n",
       "      <th>1</th>\n",
       "      <td>Commerce</td>\n",
       "      <td>&lt;p&gt;&lt;b&gt;Commerce&lt;/b&gt; is the exchange of goods an...</td>\n",
       "      <td>commerc commerc exchang servic scale etymolog ...</td>\n",
       "      <td>business</td>\n",
       "    </tr>\n",
       "    <tr>\n",
       "      <th>2</th>\n",
       "      <td>Finance</td>\n",
       "      <td>&lt;p&gt;&lt;b&gt;Finance&lt;/b&gt; is a term for matters regard...</td>\n",
       "      <td>financ financ term matter manag creation studi...</td>\n",
       "      <td>business</td>\n",
       "    </tr>\n",
       "    <tr>\n",
       "      <th>3</th>\n",
       "      <td>Industrial relations</td>\n",
       "      <td>&lt;p&gt;&lt;b&gt;Industrial relations&lt;/b&gt; or &lt;b&gt;employmen...</td>\n",
       "      <td>industri relat industri relat employ relat mul...</td>\n",
       "      <td>business</td>\n",
       "    </tr>\n",
       "    <tr>\n",
       "      <th>4</th>\n",
       "      <td>Management</td>\n",
       "      <td>&lt;p&gt;&lt;b&gt;Management&lt;/b&gt; (or &lt;b&gt;managing&lt;/b&gt;) is t...</td>\n",
       "      <td>manag manag manag administr organ busi profit ...</td>\n",
       "      <td>business</td>\n",
       "    </tr>\n",
       "  </tbody>\n",
       "</table>\n",
       "</div>"
      ],
      "text/plain": [
       "                  title                                            content  \\\n",
       "0            Accounting  <p class=\"mw-empty-elt\">\\n</p>\\n\\n<p><b>Accoun...   \n",
       "1              Commerce  <p><b>Commerce</b> is the exchange of goods an...   \n",
       "2               Finance  <p><b>Finance</b> is a term for matters regard...   \n",
       "3  Industrial relations  <p><b>Industrial relations</b> or <b>employmen...   \n",
       "4            Management  <p><b>Management</b> (or <b>managing</b>) is t...   \n",
       "\n",
       "                                                text     topic  \n",
       "0  account account account measur process commun ...  business  \n",
       "1  commerc commerc exchang servic scale etymolog ...  business  \n",
       "2  financ financ term matter manag creation studi...  business  \n",
       "3  industri relat industri relat employ relat mul...  business  \n",
       "4  manag manag manag administr organ busi profit ...  business  "
      ]
     },
     "execution_count": 7,
     "metadata": {},
     "output_type": "execute_result"
    }
   ],
   "source": [
    "def stemming(text):\n",
    "    \"\"\" Applyin stemming to each word of the given article text \"\"\"\n",
    "    return(\" \".join([PorterStemmer().stem(w) for w in text.split()]))\n",
    "\n",
    "# apply stemming to each article\n",
    "articles_df['text'] = articles_df['text'].apply(lambda x: stemming(x))\n",
    "articles_df.head()"
   ]
  },
  {
   "cell_type": "code",
   "execution_count": 8,
   "metadata": {},
   "outputs": [
    {
     "data": {
      "text/html": [
       "<div>\n",
       "<style scoped>\n",
       "    .dataframe tbody tr th:only-of-type {\n",
       "        vertical-align: middle;\n",
       "    }\n",
       "\n",
       "    .dataframe tbody tr th {\n",
       "        vertical-align: top;\n",
       "    }\n",
       "\n",
       "    .dataframe thead th {\n",
       "        text-align: right;\n",
       "    }\n",
       "</style>\n",
       "<table border=\"1\" class=\"dataframe\">\n",
       "  <thead>\n",
       "    <tr style=\"text-align: right;\">\n",
       "      <th></th>\n",
       "      <th>title</th>\n",
       "      <th>content</th>\n",
       "      <th>text</th>\n",
       "      <th>topic</th>\n",
       "      <th>topic_id</th>\n",
       "    </tr>\n",
       "  </thead>\n",
       "  <tbody>\n",
       "    <tr>\n",
       "      <th>0</th>\n",
       "      <td>Accounting</td>\n",
       "      <td>&lt;p class=\"mw-empty-elt\"&gt;\\n&lt;/p&gt;\\n\\n&lt;p&gt;&lt;b&gt;Accoun...</td>\n",
       "      <td>account account account measur process commun ...</td>\n",
       "      <td>business</td>\n",
       "      <td>0</td>\n",
       "    </tr>\n",
       "    <tr>\n",
       "      <th>1</th>\n",
       "      <td>Commerce</td>\n",
       "      <td>&lt;p&gt;&lt;b&gt;Commerce&lt;/b&gt; is the exchange of goods an...</td>\n",
       "      <td>commerc commerc exchang servic scale etymolog ...</td>\n",
       "      <td>business</td>\n",
       "      <td>0</td>\n",
       "    </tr>\n",
       "    <tr>\n",
       "      <th>2</th>\n",
       "      <td>Finance</td>\n",
       "      <td>&lt;p&gt;&lt;b&gt;Finance&lt;/b&gt; is a term for matters regard...</td>\n",
       "      <td>financ financ term matter manag creation studi...</td>\n",
       "      <td>business</td>\n",
       "      <td>0</td>\n",
       "    </tr>\n",
       "    <tr>\n",
       "      <th>3</th>\n",
       "      <td>Industrial relations</td>\n",
       "      <td>&lt;p&gt;&lt;b&gt;Industrial relations&lt;/b&gt; or &lt;b&gt;employmen...</td>\n",
       "      <td>industri relat industri relat employ relat mul...</td>\n",
       "      <td>business</td>\n",
       "      <td>0</td>\n",
       "    </tr>\n",
       "    <tr>\n",
       "      <th>4</th>\n",
       "      <td>Management</td>\n",
       "      <td>&lt;p&gt;&lt;b&gt;Management&lt;/b&gt; (or &lt;b&gt;managing&lt;/b&gt;) is t...</td>\n",
       "      <td>manag manag manag administr organ busi profit ...</td>\n",
       "      <td>business</td>\n",
       "      <td>0</td>\n",
       "    </tr>\n",
       "  </tbody>\n",
       "</table>\n",
       "</div>"
      ],
      "text/plain": [
       "                  title                                            content  \\\n",
       "0            Accounting  <p class=\"mw-empty-elt\">\\n</p>\\n\\n<p><b>Accoun...   \n",
       "1              Commerce  <p><b>Commerce</b> is the exchange of goods an...   \n",
       "2               Finance  <p><b>Finance</b> is a term for matters regard...   \n",
       "3  Industrial relations  <p><b>Industrial relations</b> or <b>employmen...   \n",
       "4            Management  <p><b>Management</b> (or <b>managing</b>) is t...   \n",
       "\n",
       "                                                text     topic  topic_id  \n",
       "0  account account account measur process commun ...  business         0  \n",
       "1  commerc commerc exchang servic scale etymolog ...  business         0  \n",
       "2  financ financ term matter manag creation studi...  business         0  \n",
       "3  industri relat industri relat employ relat mul...  business         0  \n",
       "4  manag manag manag administr organ busi profit ...  business         0  "
      ]
     },
     "execution_count": 8,
     "metadata": {},
     "output_type": "execute_result"
    }
   ],
   "source": [
    "# Create a new column 'topic_id' with encoded topic \n",
    "articles_df['topic_id'] = articles_df['topic'].factorize()[0]\n",
    "topic_id_df = articles_df[['topic', 'topic_id']].drop_duplicates()\n",
    "\n",
    "\n",
    "# Dictionaries for future use\n",
    "topic_to_id = dict(topic_id_df.values)\n",
    "id_to_topic = dict(topic_id_df[['topic_id', 'topic']].values)\n",
    "\n",
    "articles_df.head()"
   ]
  },
  {
   "cell_type": "markdown",
   "metadata": {},
   "source": [
    "Let's recall our previous topic statistics"
   ]
  },
  {
   "cell_type": "code",
   "execution_count": 9,
   "metadata": {},
   "outputs": [
    {
     "data": {
      "image/png": "[encoded data removed]",
      "text/plain": [
       "<Figure size 576x432 with 1 Axes>"
      ]
     },
     "metadata": {
      "needs_background": "light"
     },
     "output_type": "display_data"
    }
   ],
   "source": [
    "fig = plt.figure(figsize=(8,6))\n",
    "colors = ['red','grey','darkblue']\n",
    "articles_df.groupby('topic').text.count().sort_values().plot.barh(\n",
    "    ylim=0, color=colors, title= 'Topic statistics\\n')\n",
    "plt.xlabel('Number of ocurrences', fontsize = 10);"
   ]
  },
  {
   "cell_type": "code",
   "execution_count": 10,
   "metadata": {},
   "outputs": [
    {
     "name": "stdout",
     "output_type": "stream",
     "text": [
      "Each of the 322 article text is represented by 10084 features (TF-IDF score of unigrams and bigrams)\n"
     ]
    }
   ],
   "source": [
    "# We instantiate tfidf vectorizer\n",
    "tfidf = TfidfVectorizer(sublinear_tf=True, min_df=5,\n",
    "                        ngram_range=(1, 2), \n",
    "                        stop_words='english')\n",
    "\n",
    "# We transform each text into a vector\n",
    "features = tfidf.fit_transform(articles_df['text']).toarray()\n",
    "labels = articles_df['topic_id']\n",
    "\n",
    "print(\"Each of the %d article text is represented by %d features (TF-IDF score of unigrams and bigrams)\" %(features.shape))"
   ]
  },
  {
   "cell_type": "code",
   "execution_count": 20,
   "metadata": {},
   "outputs": [
    {
     "name": "stdout",
     "output_type": "stream",
     "text": [
      "\n",
      "==> business:\n",
      "  * Most Correlated Unigrams are: economist, econom, busi\n",
      "  * Most Correlated Bigrams are: busi busi, competit advantag, product servic\n",
      "\n",
      "==> cybersecurity:\n",
      "  * Most Correlated Unigrams are: vulner, secur, attack\n",
      "  * Most Correlated Bigrams are: hole punch, secur vulner, access control\n",
      "\n",
      "==> technology:\n",
      "  * Most Correlated Unigrams are: secur, rail, electr\n",
      "  * Most Correlated Bigrams are: engin design, electr engin, electr power\n"
     ]
    }
   ],
   "source": [
    "# Finding the three most correlated terms with each of the topic\n",
    "N = 3\n",
    "for topic, topic_id in sorted(topic_to_id.items()):\n",
    "    features_chi2 = chi2(features, labels == topic_id)\n",
    "    indices = np.argsort(features_chi2[0])\n",
    "    feature_names = np.array(tfidf.get_feature_names())[indices]\n",
    "    unigrams = [v for v in feature_names if len(v.split(' ')) == 1]\n",
    "    bigrams = [v for v in feature_names if len(v.split(' ')) == 2]\n",
    "    print(\"\\n==> %s:\" %(topic))\n",
    "    print(\"  * Most Correlated Unigrams are: %s\" %(', '.join(unigrams[-N:])))\n",
    "    print(\"  * Most Correlated Bigrams are: %s\" %(', '.join(bigrams[-N:])))"
   ]
  },
  {
   "cell_type": "markdown",
   "metadata": {},
   "source": [
    "<a id='ml'></a>\n",
    "## Multi-Classification models\n",
    "\n",
    "The classification models evaluated are: \n",
    "* Random Forest\n",
    "* Linear Support Vector Machine\n",
    "* Multinomial Naive Bayes \n",
    "* Logistic Regression."
   ]
  },
  {
   "cell_type": "markdown",
   "metadata": {},
   "source": [
    "<a id='sp'></a>\n",
    "### Spliting the data into train and test sets\n",
    "The original data was divided into features (X) and target (y), which were then splitted into train (75%) and test (25%) sets. Thus, the algorithms would be trained on one set of data and tested out on a completely different set of data (not seen before by the algorithm)."
   ]
  },
  {
   "cell_type": "code",
   "execution_count": 21,
   "metadata": {},
   "outputs": [],
   "source": [
    "X = articles_df['text'] # Collection of articles\n",
    "y = articles_df['topic'] # Topics we want to predict\n",
    "\n",
    "X_train, X_test, y_train, y_test = train_test_split(X, y, \n",
    "                                                    test_size=0.25,\n",
    "                                                    random_state = 0)"
   ]
  },
  {
   "cell_type": "markdown",
   "metadata": {},
   "source": [
    "<a id='m'></a>\n",
    "### Models"
   ]
  },
  {
   "cell_type": "markdown",
   "metadata": {},
   "source": [
    "Above all, a customer would not want Leo to suggest him or her an article that does not belong to his or her topic of interest. We want to ensure that whenever we classify an article as belonging in a topic, it really is true. In other words, we want to maximize the precision of our classification. For that we do a cross validation and select the model with the best precision score."
   ]
  },
  {
   "cell_type": "code",
   "execution_count": 22,
   "metadata": {},
   "outputs": [
    {
     "name": "stdout",
     "output_type": "stream",
     "text": [
      "RandomForestClassifier\n",
      "LinearSVC\n",
      "MultinomialNB\n",
      "LogisticRegression\n"
     ]
    }
   ],
   "source": [
    "from sklearn.metrics import precision_score\n",
    "from sklearn.metrics import make_scorer\n",
    "precision_scorer = make_scorer(lambda y_true,y_pred: precision_score(y_true, y_pred, average='micro'))\n",
    "models = [\n",
    "    RandomForestClassifier(n_estimators=100, max_depth=5, random_state=0),\n",
    "    LinearSVC(),\n",
    "    MultinomialNB(),\n",
    "    LogisticRegression(random_state=0),\n",
    "]\n",
    "\n",
    "# 5 Cross-validation\n",
    "CV = 5\n",
    "cv_df = pd.DataFrame(index=range(CV * len(models)))\n",
    "\n",
    "entries = []\n",
    "for model in models:\n",
    "    model_name = model.__class__.__name__\n",
    "    print(model_name)\n",
    "    precisions = cross_val_score(model, features, labels, scoring=precision_scorer, cv=CV)\n",
    "    for fold_idx, precision in enumerate(precisions):\n",
    "        entries.append((model_name, fold_idx, precision))\n",
    "    \n",
    "cv_df = pd.DataFrame(entries, columns=['model_name', 'fold_idx', 'precision'])\n",
    "\n"
   ]
  },
  {
   "cell_type": "markdown",
   "metadata": {},
   "source": [
    "<a id='sum'></a>\n",
    "## Comparison of model performance\n",
    "\n",
    "The best mean precision was obtained with LinearSVC."
   ]
  },
  {
   "cell_type": "code",
   "execution_count": 23,
   "metadata": {},
   "outputs": [
    {
     "data": {
      "text/html": [
       "<div>\n",
       "<style scoped>\n",
       "    .dataframe tbody tr th:only-of-type {\n",
       "        vertical-align: middle;\n",
       "    }\n",
       "\n",
       "    .dataframe tbody tr th {\n",
       "        vertical-align: top;\n",
       "    }\n",
       "\n",
       "    .dataframe thead th {\n",
       "        text-align: right;\n",
       "    }\n",
       "</style>\n",
       "<table border=\"1\" class=\"dataframe\">\n",
       "  <thead>\n",
       "    <tr style=\"text-align: right;\">\n",
       "      <th></th>\n",
       "      <th>Mean precision</th>\n",
       "      <th>Standard deviation</th>\n",
       "    </tr>\n",
       "    <tr>\n",
       "      <th>model_name</th>\n",
       "      <th></th>\n",
       "      <th></th>\n",
       "    </tr>\n",
       "  </thead>\n",
       "  <tbody>\n",
       "    <tr>\n",
       "      <th>LinearSVC</th>\n",
       "      <td>0.928654</td>\n",
       "      <td>0.027914</td>\n",
       "    </tr>\n",
       "    <tr>\n",
       "      <th>LogisticRegression</th>\n",
       "      <td>0.913221</td>\n",
       "      <td>0.053895</td>\n",
       "    </tr>\n",
       "    <tr>\n",
       "      <th>MultinomialNB</th>\n",
       "      <td>0.910096</td>\n",
       "      <td>0.055947</td>\n",
       "    </tr>\n",
       "    <tr>\n",
       "      <th>RandomForestClassifier</th>\n",
       "      <td>0.869663</td>\n",
       "      <td>0.040176</td>\n",
       "    </tr>\n",
       "  </tbody>\n",
       "</table>\n",
       "</div>"
      ],
      "text/plain": [
       "                        Mean precision  Standard deviation\n",
       "model_name                                                \n",
       "LinearSVC                     0.928654            0.027914\n",
       "LogisticRegression            0.913221            0.053895\n",
       "MultinomialNB                 0.910096            0.055947\n",
       "RandomForestClassifier        0.869663            0.040176"
      ]
     },
     "execution_count": 23,
     "metadata": {},
     "output_type": "execute_result"
    }
   ],
   "source": [
    "mean_precision = cv_df.groupby('model_name').precision.mean()\n",
    "std_precision = cv_df.groupby('model_name').precision.std()\n",
    "\n",
    "pre = pd.concat([mean_precision, std_precision], axis= 1, \n",
    "          ignore_index=True)\n",
    "pre.columns = ['Mean precision', 'Standard deviation']\n",
    "pre"
   ]
  },
  {
   "cell_type": "code",
   "execution_count": 24,
   "metadata": {},
   "outputs": [
    {
     "data": {
      "image/png": "[encoded data removed]",
      "text/plain": [
       "<Figure size 576x360 with 1 Axes>"
      ]
     },
     "metadata": {
      "needs_background": "light"
     },
     "output_type": "display_data"
    }
   ],
   "source": [
    "plt.figure(figsize=(8,5))\n",
    "sns.boxplot(x='model_name', y='precision', \n",
    "            data=cv_df, \n",
    "            color='lightblue', \n",
    "            showmeans=True)\n",
    "plt.title(\"MEAN PRECISION (cv = 5)\\n\", size=14);"
   ]
  },
  {
   "cell_type": "markdown",
   "metadata": {},
   "source": [
    "<a id='ev'></a>\n",
    "## Model Evaluation"
   ]
  },
  {
   "cell_type": "code",
   "execution_count": 25,
   "metadata": {},
   "outputs": [],
   "source": [
    "X_train, X_test, y_train, y_test,indices_train,indices_test = train_test_split(features, \n",
    "                                                               labels, \n",
    "                                                               articles_df.index, test_size=0.25, \n",
    "                                                               random_state=1)\n",
    "model = LinearSVC()\n",
    "model.fit(X_train, y_train)\n",
    "y_pred = model.predict(X_test)"
   ]
  },
  {
   "cell_type": "markdown",
   "metadata": {},
   "source": [
    "<a id='f1'></a>\n",
    "### Precision, Recall, F1-score"
   ]
  },
  {
   "cell_type": "code",
   "execution_count": 26,
   "metadata": {},
   "outputs": [
    {
     "name": "stdout",
     "output_type": "stream",
     "text": [
      "\t\t\t\tCLASSIFICATIION METRICS\n",
      "\n",
      "               precision    recall  f1-score   support\n",
      "\n",
      "     business       0.92      1.00      0.96        24\n",
      "   technology       0.97      0.94      0.95        33\n",
      "cybersecurity       1.00      0.96      0.98        24\n",
      "\n",
      "     accuracy                           0.96        81\n",
      "    macro avg       0.96      0.97      0.96        81\n",
      " weighted avg       0.96      0.96      0.96        81\n",
      "\n"
     ]
    }
   ],
   "source": [
    "# Classification report\n",
    "print('\\t\\t\\t\\tCLASSIFICATIION METRICS\\n')\n",
    "print(metrics.classification_report(y_test, y_pred, \n",
    "                                    target_names= articles_df['topic'].unique()))"
   ]
  },
  {
   "cell_type": "markdown",
   "metadata": {},
   "source": [
    "The class that can be classified with more precision is __‘Cybersecurity’__ with a precision of 1 which is extremely good. On average the precision of our model is 96%. It is relatively good, but more fine tuning would probably allow us to achieve better results. For reasons of time constaints, we were not able to play a lot more even though we implemented a cross validation method. \n",
    "The other scores are also quite good as we achieve an average of 96% on recall as well as f1-score."
   ]
  },
  {
   "cell_type": "markdown",
   "metadata": {},
   "source": [
    "<a id='cm'></a>\n",
    "### Confusion Matrix\n",
    "\n",
    "If we had a perfect model that always classifies correctly an article, then the confusion matrix would have values in the diagonal only (where predicted label = actual label)."
   ]
  },
  {
   "cell_type": "code",
   "execution_count": 27,
   "metadata": {},
   "outputs": [
    {
     "data": {
      "image/png": "[encoded data removed]",
      "text/plain": [
       "<Figure size 576x576 with 2 Axes>"
      ]
     },
     "metadata": {
      "needs_background": "light"
     },
     "output_type": "display_data"
    }
   ],
   "source": [
    "conf_mat = confusion_matrix(y_test, y_pred)\n",
    "fig, ax = plt.subplots(figsize=(8,8))\n",
    "sns.heatmap(conf_mat, annot=True, cmap=\"Blues\", fmt='d',\n",
    "            xticklabels=topic_id_df.topic.values, \n",
    "            yticklabels=topic_id_df.topic.values)\n",
    "plt.ylabel('Actual')\n",
    "plt.xlabel('Predicted')\n",
    "plt.title(\"CONFUSION MATRIX - LinearSVC\\n\", size=16);"
   ]
  },
  {
   "cell_type": "markdown",
   "metadata": {},
   "source": [
    "The confusion matrix looks pretty good (clear diagonal that represents correct classifications). Nevertheless, there are cases were the article was classified in a wrong class.\n",
    "\n",
    "#### Misclassified articles\n",
    "Let’s have a look at the cases that were wrongly classified."
   ]
  },
  {
   "cell_type": "code",
   "execution_count": 28,
   "metadata": {},
   "outputs": [
    {
     "name": "stdout",
     "output_type": "stream",
     "text": [
      "'technology' predicted as 'business' : 2 examples.\n"
     ]
    },
    {
     "data": {
      "text/html": [
       "<div>\n",
       "<style scoped>\n",
       "    .dataframe tbody tr th:only-of-type {\n",
       "        vertical-align: middle;\n",
       "    }\n",
       "\n",
       "    .dataframe tbody tr th {\n",
       "        vertical-align: top;\n",
       "    }\n",
       "\n",
       "    .dataframe thead th {\n",
       "        text-align: right;\n",
       "    }\n",
       "</style>\n",
       "<table border=\"1\" class=\"dataframe\">\n",
       "  <thead>\n",
       "    <tr style=\"text-align: right;\">\n",
       "      <th></th>\n",
       "      <th>topic</th>\n",
       "      <th>content</th>\n",
       "    </tr>\n",
       "  </thead>\n",
       "  <tbody>\n",
       "    <tr>\n",
       "      <th>120</th>\n",
       "      <td>technology</td>\n",
       "      <td>&lt;p&gt;A &lt;b&gt;public utility company&lt;/b&gt; (usually ju...</td>\n",
       "    </tr>\n",
       "    <tr>\n",
       "      <th>180</th>\n",
       "      <td>technology</td>\n",
       "      <td>&lt;p&gt;&lt;b&gt;Electricity retailing&lt;/b&gt; is the final s...</td>\n",
       "    </tr>\n",
       "  </tbody>\n",
       "</table>\n",
       "</div>"
      ],
      "text/plain": [
       "          topic                                            content\n",
       "120  technology  <p>A <b>public utility company</b> (usually ju...\n",
       "180  technology  <p><b>Electricity retailing</b> is the final s..."
      ]
     },
     "metadata": {},
     "output_type": "display_data"
    },
    {
     "name": "stdout",
     "output_type": "stream",
     "text": [
      "\n",
      "'cybersecurity' predicted as 'technology' : 1 examples.\n"
     ]
    },
    {
     "data": {
      "text/html": [
       "<div>\n",
       "<style scoped>\n",
       "    .dataframe tbody tr th:only-of-type {\n",
       "        vertical-align: middle;\n",
       "    }\n",
       "\n",
       "    .dataframe tbody tr th {\n",
       "        vertical-align: top;\n",
       "    }\n",
       "\n",
       "    .dataframe thead th {\n",
       "        text-align: right;\n",
       "    }\n",
       "</style>\n",
       "<table border=\"1\" class=\"dataframe\">\n",
       "  <thead>\n",
       "    <tr style=\"text-align: right;\">\n",
       "      <th></th>\n",
       "      <th>topic</th>\n",
       "      <th>content</th>\n",
       "    </tr>\n",
       "  </thead>\n",
       "  <tbody>\n",
       "    <tr>\n",
       "      <th>272</th>\n",
       "      <td>cybersecurity</td>\n",
       "      <td>&lt;p&gt;&lt;b&gt;Trojan&lt;/b&gt; or &lt;b&gt;Trojans&lt;/b&gt; may refer t...</td>\n",
       "    </tr>\n",
       "  </tbody>\n",
       "</table>\n",
       "</div>"
      ],
      "text/plain": [
       "             topic                                            content\n",
       "272  cybersecurity  <p><b>Trojan</b> or <b>Trojans</b> may refer t..."
      ]
     },
     "metadata": {},
     "output_type": "display_data"
    },
    {
     "name": "stdout",
     "output_type": "stream",
     "text": [
      "\n"
     ]
    }
   ],
   "source": [
    "for predicted in topic_id_df.topic_id:\n",
    "    for actual in topic_id_df.topic_id:\n",
    "        if predicted != actual and conf_mat[actual, predicted] >= 1:\n",
    "            print(\"'{}' predicted as '{}' : {} examples.\".format(id_to_topic[actual], \n",
    "                                                           id_to_topic[predicted], \n",
    "                                                           conf_mat[actual, predicted]))\n",
    "    \n",
    "            display(articles_df.loc[indices_test[(y_test == actual) & (y_pred == predicted)]][['topic', \n",
    "                                                                'content']])\n",
    "            print('')"
   ]
  },
  {
   "cell_type": "markdown",
   "metadata": {},
   "source": [
    "#### Most correlated terms with each topic"
   ]
  },
  {
   "cell_type": "code",
   "execution_count": 29,
   "metadata": {},
   "outputs": [
    {
     "name": "stdout",
     "output_type": "stream",
     "text": [
      "\n",
      "==> 'business':\n",
      "  * Top unigrams: busi, econom, corpor, organiz\n",
      "  * Top bigrams: chang manag, organiz chang, product servic, busi model\n",
      "\n",
      "==> 'cybersecurity':\n",
      "  * Top unigrams: secur, attack, vulner, firewal\n",
      "  * Top bigrams: access control, secur oper, secur design, oper secur\n",
      "\n",
      "==> 'technology':\n",
      "  * Top unigrams: engin, electr, machin, autom\n",
      "  * Top bigrams: electron devic, assembl languag, civil engin, engin design\n"
     ]
    }
   ],
   "source": [
    "model.fit(features, labels)\n",
    "\n",
    "N = 4\n",
    "for topic, topic_id in sorted(topic_to_id.items()):\n",
    "    indices = np.argsort(model.coef_[topic_id])\n",
    "    feature_names = np.array(tfidf.get_feature_names())[indices]\n",
    "    unigrams = [v for v in reversed(feature_names) if len(v.split(' ')) == 1][:N]\n",
    "    bigrams = [v for v in reversed(feature_names) if len(v.split(' ')) == 2][:N]\n",
    "    print(\"\\n==> '{}':\".format(topic))\n",
    "    print(\"  * Top unigrams: %s\" %(', '.join(unigrams)))\n",
    "    print(\"  * Top bigrams: %s\" %(', '.join(bigrams)))"
   ]
  },
  {
   "cell_type": "markdown",
   "metadata": {},
   "source": [
    "<a id='md'></a>\n",
    "## Model deployment"
   ]
  },
  {
   "cell_type": "markdown",
   "metadata": {},
   "source": [
    "First, I would clearly spell out what constitutes good and bad performance.\n",
    "Then, I will see the constraints (computation time and space, scalability, robustness, etc...) that we face to choose the best model to put into production."
   ]
  }
 ],
 "metadata": {
  "kernelspec": {
   "display_name": "Python 3",
   "language": "python",
   "name": "python3"
  },
  "language_info": {
   "codemirror_mode": {
    "name": "ipython",
    "version": 3
   },
   "file_extension": ".py",
   "mimetype": "text/x-python",
   "name": "python",
   "nbconvert_exporter": "python",
   "pygments_lexer": "ipython3",
   "version": "3.7.3"
  }
 },
 "nbformat": 4,
 "nbformat_minor": 2
}
